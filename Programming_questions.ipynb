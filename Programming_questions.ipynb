{
 "cells": [
  {
   "cell_type": "markdown",
   "metadata": {},
   "source": [
    "### Design a simple stack that supports push, pop, top, and retrieving the minimum element in constant time.\n",
    "```\n",
    "push(x) -- Push element x onto stack.\n",
    "pop() -- Removes the element on top of the stack.\n",
    "top() -- Get the top element.\n",
    "getMin() -- Retrieve the minimum element in the stack.\n",
    "```\n",
    "Note: be sure that pop() and top() handle being called on an empty stack."
   ]
  },
  {
   "cell_type": "code",
   "execution_count": null,
   "metadata": {},
   "outputs": [],
   "source": [
    "class minStack(object):\n",
    "    def __init__(self):\n",
    "        # Fill this in.\n",
    "\n",
    "    def push(self, x):\n",
    "        # Fill this in.\n",
    "\n",
    "    def pop(self):\n",
    "        # Fill this in.\n",
    "\n",
    "    def top(self):\n",
    "        # Fill this in.\n",
    "\n",
    "    def getMin(self):\n",
    "        # Fill this in.\n",
    "\n",
    "x = minStack()\n",
    "x.push(-2)\n",
    "x.push(0)\n",
    "x.push(-3)\n",
    "print(x.getMin())\n",
    "# -3\n",
    "x.pop()\n",
    "print(x.top())\n",
    "# 0\n",
    "print(x.getMin())\n",
    "# -2"
   ]
  },
  {
   "cell_type": "markdown",
   "metadata": {},
   "source": [
    "### Given a list of integers, return the bounds of the minimum range that must be sorted so that the whole list would be sorted.\n",
    "\n",
    "Example:\n",
    "```\n",
    "Input: [1, 7, 9, 5, 7, 8, 10]\n",
    "Output: (1, 5)\n",
    "```\n",
    "Explanation:\n",
    "The numbers between index 1 and 5 are out of order and need to be sorted."
   ]
  },
  {
   "cell_type": "code",
   "execution_count": 32,
   "metadata": {},
   "outputs": [
    {
     "name": "stdout",
     "output_type": "stream",
     "text": [
      "(0, 5)\n"
     ]
    }
   ],
   "source": [
    "#TODO\n",
    "def findRange(nums):\n",
    "    curr_max = nums[0]\n",
    "    curr_min = nums[0]\n",
    "    pos_min = 0\n",
    "    pos_max = 0\n",
    "    \n",
    "    for i in range(len(nums)-1):\n",
    "        if nums[i] < curr_min:\n",
    "            curr_min = nums[i]\n",
    "        \n",
    "        if curr_min <\n",
    "        \n",
    "        if nums[i] > curr_max:\n",
    "            curr_max = nums[i]\n",
    "            \n",
    "        if curr_max > nums[i+1]:\n",
    "            pos_max = i+1\n",
    "            \n",
    "    return (pos_min, pos_max)\n",
    "    \n",
    "\n",
    "print(findRange([1, 7, 9, 5, 7, 8, 10]))\n",
    "# [1, 4, 7, 9, 5, 7, 8, 10]"
   ]
  },
  {
   "cell_type": "markdown",
   "metadata": {},
   "source": [
    "### You are the manager of a number of employees who all sit in a row. The CEO would like to give bonuses to all of your employees, but since the company did not perform so well this year the CEO would like to keep the bonuses to a minimum.\n",
    "\n",
    "The rules of giving bonuses is that:\n",
    "- Each employee begins with a bonus factor of 1x.\n",
    "- For each employee, if they perform better than the person sitting next to them, the employee is given +1 higher bonus (and up to +2 if they perform better than both people to their sides).\n",
    "\n",
    "Given a list of employee's performance, find the bonuses each employee should get.\n",
    "\n",
    "Example:\n",
    "```\n",
    "Input: [1, 2, 3, 2, 3, 5, 1]\n",
    "Output: [1, 2, 3, 1, 2, 3, 1]\n",
    "```"
   ]
  },
  {
   "cell_type": "code",
   "execution_count": 29,
   "metadata": {},
   "outputs": [
    {
     "name": "stdout",
     "output_type": "stream",
     "text": [
      "[1, 2, 3, 1, 2, 3, 1]\n"
     ]
    }
   ],
   "source": [
    "def getBonuses(performance):\n",
    "    out = [1+(performance[0]>performance[1])]\n",
    "    \n",
    "    for i in range(1, len(performance)-1):\n",
    "        out.append(1 + (performance[i-1]<performance[i]) + (performance[i+1]<performance[i]) )\n",
    "                   \n",
    "    out.append(1+(performance[-1]>performance[-2]))\n",
    "    \n",
    "    return out\n",
    "\n",
    "print(getBonuses([1, 2, 3, 2, 3, 5, 1]))\n",
    "# [1, 2, 3, 1, 2, 3, 1]"
   ]
  },
  {
   "cell_type": "code",
   "execution_count": 31,
   "metadata": {},
   "outputs": [
    {
     "name": "stdout",
     "output_type": "stream",
     "text": [
      "[1, 2, 3, 1, 2, 3, 1]\n"
     ]
    }
   ],
   "source": [
    "def getBonuses(performance):\n",
    "    out = [1]*len(performance)\n",
    "    \n",
    "    for i in range(1, len(performance)-1, 2):\n",
    "        izq = int(performance[i-1]<performance[i])\n",
    "        der = int(performance[i+1]<performance[i])\n",
    "        \n",
    "        out[i-1] += (1-izq)\n",
    "        out[i]   += izq + der\n",
    "        out[i+1] += (1-der)\n",
    "    \n",
    "    if len(performance) % 2 == 0:\n",
    "        out[-1] += int(performance[-1]>performance[-2])\n",
    "    \n",
    "    return out\n",
    "\n",
    "print(getBonuses([1, 2, 3, 2, 3, 5, 1]))\n",
    "# [1, 2, 3, 1, 2, 3, 1]"
   ]
  },
  {
   "cell_type": "markdown",
   "metadata": {},
   "source": [
    "### You are given an array of integers. Return an array of the same size where the element at each index is the product of all the elements in the original array except for the element at that index.\n",
    "\n",
    "For example, an input of [1, 2, 3, 4, 5] should return [120, 60, 40, 30, 24].\n",
    "\n",
    "You cannot use division in this problem."
   ]
  },
  {
   "cell_type": "code",
   "execution_count": 246,
   "metadata": {},
   "outputs": [
    {
     "name": "stdout",
     "output_type": "stream",
     "text": [
      "[120, 60, 40, 30, 24]\n"
     ]
    }
   ],
   "source": [
    "def product_excluding(i, nums):\n",
    "    n = 1\n",
    "    for j, n2 in enumerate(nums):\n",
    "        if not j == i:\n",
    "            n = n * n2\n",
    "    return n\n",
    "\n",
    "def products(nums):\n",
    "    return [product_excluding(i, nums) for i in range(len(nums))]\n",
    "\n",
    "print(products([1, 2, 3, 4, 5]))\n",
    "# [120, 60, 40, 30, 24]"
   ]
  },
  {
   "cell_type": "markdown",
   "metadata": {},
   "source": [
    "### Given a sorted list of numbers, return a list of strings that represent all of the consecutive numbers.\n",
    "\n",
    "Example:\n",
    "```python\n",
    "- Input: [0, 1, 2, 5, 7, 8, 9, 9, 10, 11, 15]\n",
    "- Output: ['0->2', '5->5', '7->11', '15->15']\n",
    "```"
   ]
  },
  {
   "cell_type": "code",
   "execution_count": 231,
   "metadata": {},
   "outputs": [
    {
     "name": "stdout",
     "output_type": "stream",
     "text": [
      "['0->2', '5->5', '7->11', '15->15']\n"
     ]
    }
   ],
   "source": [
    "import numpy as np\n",
    "\n",
    "def findRanges(nums):\n",
    "    start = nums[0]\n",
    "    last = nums[0]\n",
    "    out = []\n",
    "    for i in nums:\n",
    "        if i == last or i == last+1:\n",
    "            last = i\n",
    "        else:\n",
    "            out.append('{}->{}'.format(start, last))\n",
    "            start = i\n",
    "            last = i\n",
    "    out.append('{}->{}'.format(start, last))\n",
    "            \n",
    "    return out\n",
    "            \n",
    "print(findRanges([0, 1, 2, 5, 7, 8, 9, 9, 10, 11, 15]))\n",
    "# ['0->2', '5->5', '7->11', '15->15']"
   ]
  },
  {
   "cell_type": "markdown",
   "metadata": {},
   "source": [
    "#### Given a string, you need to reverse the order of characters in each word within a sentence while still preserving whitespace and initial word order.\n",
    "\n",
    "Example 1:\n",
    "```python\n",
    "Input: \"The cat in the hat\"\n",
    "Output: \"ehT tac ni eht tah\"\n",
    "```\n",
    "Note: In the string, each word is separated by single space and there will not be any extra space in the string."
   ]
  },
  {
   "cell_type": "code",
   "execution_count": 232,
   "metadata": {},
   "outputs": [
    {
     "name": "stdout",
     "output_type": "stream",
     "text": [
      "['ehT', 'tac', 'ni', 'eht', 'tah']\n"
     ]
    }
   ],
   "source": [
    "class Solution:\n",
    "    def reverseWords(self, str):\n",
    "        return [w[::-1] for w in str.split(' ')]\n",
    "\n",
    "print(Solution().reverseWords(\"The cat in the hat\"))\n",
    "# ehT tac ni eht tah"
   ]
  },
  {
   "cell_type": "markdown",
   "metadata": {},
   "source": [
    "#### You are given an array of tuples (start, end) representing time intervals for lectures. The intervals may be overlapping. Return the number of rooms that are required.\n",
    "\n",
    "For example. ```[(30, 75), (0, 50), (60, 150)] ``` should return 2."
   ]
  },
  {
   "cell_type": "code",
   "execution_count": 233,
   "metadata": {},
   "outputs": [
    {
     "name": "stdout",
     "output_type": "stream",
     "text": [
      "2\n"
     ]
    }
   ],
   "source": [
    "import numpy as np\n",
    "import bisect \n",
    "\n",
    "def rooms_required(lectures):\n",
    "    temp = []\n",
    "    \n",
    "    last_start = np.inf\n",
    "    last_end = np.NINF\n",
    "    \n",
    "    n = 0\n",
    "    max_n = 0\n",
    "    endings = []\n",
    "    \n",
    "    for start, end in sorted(lectures):\n",
    "        if endings:\n",
    "            while(start >= endings[0]):\n",
    "                endings.pop(0)\n",
    "                n -= 1\n",
    "\n",
    "        bisect.insort(endings, end)\n",
    "        n += 1\n",
    "        \n",
    "        if(n > max_n):\n",
    "            max_n = n\n",
    "        last_start = start\n",
    "        \n",
    "    return max_n\n",
    "        \n",
    "    \n",
    "print(rooms_required([(30, 75), (0, 50), (60, 150)]))"
   ]
  },
  {
   "cell_type": "markdown",
   "metadata": {},
   "source": [
    "#### You are given a stream of numbers. Compute the median for each new element .\n",
    "\n",
    "Eg. Given ```[2, 1, 4, 7, 2, 0, 5]```, the algorithm should output ```[2, 1.5, 2, 3.0, 2, 2, 2]```"
   ]
  },
  {
   "cell_type": "code",
   "execution_count": 234,
   "metadata": {},
   "outputs": [
    {
     "data": {
      "text/plain": [
       "[2, 1.5, 2, 3.0, 2, 2.0, 2]"
      ]
     },
     "execution_count": 234,
     "metadata": {},
     "output_type": "execute_result"
    }
   ],
   "source": [
    "import bisect \n",
    "from statistics import median\n",
    "\n",
    "def running_median(stream):\n",
    "    out = []\n",
    "    \n",
    "    for i in range(1,len(stream)+1):\n",
    "        out.append(median(stream[:i]))\n",
    "        \n",
    "    return out\n",
    "\n",
    "running_median([2, 1, 4, 7, 2, 0, 5])\n",
    "# 2 1.5 2 3.0 2 2.0 2"
   ]
  },
  {
   "cell_type": "markdown",
   "metadata": {},
   "source": [
    "#### Given a list of words, group the words that are anagrams of each other. (An anagram are words made up of the same letters).\n",
    "\n",
    "Example:\n",
    "```\n",
    "Input: ['abc', 'bcd', 'cba', 'cbd', 'efg']\n",
    "Output: [['abc', 'cba'], ['bcd', 'cbd'], ['efg']]\n",
    "```"
   ]
  },
  {
   "cell_type": "code",
   "execution_count": 235,
   "metadata": {},
   "outputs": [
    {
     "name": "stdout",
     "output_type": "stream",
     "text": [
      "[['abc', 'cba'], ['bcd', 'cbd'], ['efg']]\n"
     ]
    }
   ],
   "source": [
    "import collections\n",
    "\n",
    "def groupAnagramWords(strs):\n",
    "    counters = [collections.Counter(s) for s in strs]\n",
    "    out = []\n",
    "    processed = [1]*len(strs)\n",
    "    \n",
    "    for i, c in enumerate(counters):\n",
    "        temp = []\n",
    "        for j in range(i, len(counters)):\n",
    "            if counters[j] == c and processed[j]:\n",
    "                temp.append(strs[j])\n",
    "                processed[j] = 0\n",
    "                \n",
    "        if(temp):\n",
    "            out.append(temp)\n",
    "    \n",
    "    return out\n",
    "    \n",
    "\n",
    "print(groupAnagramWords(['abc', 'bcd', 'cba', 'cbd', 'efg']))\n",
    "# [['efg'], ['bcd', 'cbd'], ['abc', 'cba']]"
   ]
  },
  {
   "cell_type": "code",
   "execution_count": 236,
   "metadata": {
    "scrolled": true
   },
   "outputs": [
    {
     "name": "stdout",
     "output_type": "stream",
     "text": [
      "[['abc', 'cba'], ['bcd', 'cbd'], ['efg']]\n"
     ]
    }
   ],
   "source": [
    "import collections\n",
    "\n",
    "def mark(strs, proc, j):\n",
    "    proc[j] = 0\n",
    "    return(strs[j])\n",
    "\n",
    "def groupAnagramWords(strs):\n",
    "    counters = [collections.Counter(s) for s in strs]\n",
    "    out = []\n",
    "    processed = [1]*len(strs)\n",
    "    \n",
    "    for i, c in enumerate(counters):\n",
    "        temp = [mark(strs, processed, j) for j, c2 in enumerate(counters) if c2 == c and processed[j]]\n",
    "        if temp:\n",
    "            out.append(temp)\n",
    "    \n",
    "    return out\n",
    "    \n",
    "\n",
    "print(groupAnagramWords(['abc', 'bcd', 'cba', 'cbd', 'efg']))\n",
    "# [['efg'], ['bcd', 'cbd'], ['abc', 'cba']]"
   ]
  },
  {
   "cell_type": "markdown",
   "metadata": {},
   "source": [
    "#### You are given a string of parenthesis. Return the minimum number of parenthesis that would need to be removed in order to make the string valid. \"Valid\" means that each open parenthesis has a matching closed parenthesis.\n",
    "\n",
    "Example:\n",
    "```\n",
    "\"()())()\"\n",
    "```\n",
    "The following input should return 1.\n",
    "```\n",
    "\")(\"\n",
    "```"
   ]
  },
  {
   "cell_type": "code",
   "execution_count": 237,
   "metadata": {},
   "outputs": [
    {
     "name": "stdout",
     "output_type": "stream",
     "text": [
      "1\n"
     ]
    }
   ],
   "source": [
    "def count_invalid_parenthesis(string):\n",
    "    level = 0\n",
    "    n = 0\n",
    "    \n",
    "    for par in string:\n",
    "        if par == '(':\n",
    "            level +=1\n",
    "        elif level == 0:\n",
    "                n +=1\n",
    "        else:\n",
    "            level -=1\n",
    "            \n",
    "    return level + n\n",
    "            \n",
    "print(count_invalid_parenthesis(\"()())()\"))\n",
    "# 1"
   ]
  },
  {
   "cell_type": "markdown",
   "metadata": {},
   "source": [
    "#### Given a 2-dimensional grid consisting of 1's (land blocks) and 0's (water blocks), count the number of islands present in the grid. The definition of an island is as follows:\n",
    "1. Must be surrounded by water blocks.\n",
    "2. Consists of land blocks (1's) connected to adjacent land blocks (either vertically or horizontally).\n",
    "\n",
    "Assume all edges outside of the grid are water.\n",
    "\n",
    "Example:\n",
    "```\n",
    "Input: \n",
    "10001\n",
    "11000\n",
    "10110\n",
    "00000\n",
    "\n",
    "Output: 3\n",
    "```"
   ]
  },
  {
   "cell_type": "code",
   "execution_count": 238,
   "metadata": {},
   "outputs": [
    {
     "name": "stdout",
     "output_type": "stream",
     "text": [
      "3\n"
     ]
    }
   ],
   "source": [
    "import numpy as np\n",
    "\n",
    "class Solution(object):\n",
    "    def inRange(self, grid, r, c):\n",
    "        return not (r < 0 or c < 0 or r >= len(grid) or c >= len(grid[0]))\n",
    "    \n",
    "    def dfs(self, adj, i, j , visited):\n",
    "        visited[i][j] = True\n",
    "#         print(\"Visited ({}, {})\".format(i, j))\n",
    "        \n",
    "        if self.inRange(grid, i, j+1) and adj[i][j+1] == 1 and not visited[i][j+1] :\n",
    "            self.dfs(adj, i, j+1, visited)\n",
    "            \n",
    "        if self.inRange(grid, i+1, j) and adj[i+1][j] == 1 and not visited[i+1][j] :\n",
    "            self.dfs(adj, i+1, j, visited)\n",
    "            \n",
    "        if self.inRange(grid, i-1, j) and adj[i-1][j] == 1 and not visited[i-1][j] :\n",
    "            self.dfs(adj, i, j+1, visited)\n",
    "            \n",
    "        if self.inRange(grid, i, j-1) and adj[i][j-1] == 1 and not visited[i][j-1] :\n",
    "            self.dfs(adj, i, j-1, visited)\n",
    "\n",
    "    def numIslands(self, grid):\n",
    "        n = 0\n",
    "        visited = np.zeros((len(grid), len(grid[0])))\n",
    "\n",
    "        for i in range(len(grid)):\n",
    "            for j in range(len(grid[i])):\n",
    "                if grid[i][j] == 1 and not visited[i][j]:\n",
    "                    self.dfs(grid, i, j, visited)\n",
    "                    n += 1\n",
    "        \n",
    "        return n\n",
    "\n",
    "grid = [[1, 1, 0, 0, 0],\n",
    "        [0, 1, 0, 0, 1],\n",
    "        [1, 0, 0, 1, 1],\n",
    "        [0, 0, 0, 0, 0]]\n",
    "print(Solution().numIslands(grid))"
   ]
  },
  {
   "cell_type": "markdown",
   "metadata": {},
   "source": [
    "#### You are given the root of a binary tree. Find and return the largest subtree of that tree, which is a valid binary search tree."
   ]
  },
  {
   "cell_type": "code",
   "execution_count": 239,
   "metadata": {},
   "outputs": [
    {
     "name": "stdout",
     "output_type": "stream",
     "text": [
      "749\n"
     ]
    }
   ],
   "source": [
    "class TreeNode:\n",
    "    def __init__(self, key):\n",
    "        self.left = None\n",
    "        self.right = None\n",
    "        self.key = key\n",
    "\n",
    "    def __str__(self):\n",
    "        # preorder traversal\n",
    "        answer = str(self.key)\n",
    "        if self.left:\n",
    "            answer += str(self.left)\n",
    "        if self.right:\n",
    "            answer += str(self.right)\n",
    "        return answer\n",
    "\n",
    "def largest_bst_subtree(root):\n",
    "    if(not root):\n",
    "        return ''\n",
    "    \n",
    "    left = ''\n",
    "    right = ''\n",
    "    \n",
    "#     print('Nodo: ', root.key)\n",
    "        \n",
    "    if root.left:\n",
    "        left = largest_bst_subtree(root.left)\n",
    "          \n",
    "    if root.right:\n",
    "        right = largest_bst_subtree(root.right)\n",
    "            \n",
    "    if root.left and root.right:\n",
    "        if root.left.key < root.key and root.right.key > root.key:\n",
    "            return str(root.key) + str(left) + str(right)\n",
    "        else:\n",
    "            return str(left) if len(left) >= len(right) else str(right)\n",
    "    elif root.left:\n",
    "        if root.left.key < root.key:\n",
    "            return str(root.key) + str(left)\n",
    "        else:\n",
    "            return ''\n",
    "    elif root.right:\n",
    "        if root.right.key > root.key:\n",
    "            return str(root.key) + str(right)\n",
    "        else:\n",
    "            return ''\n",
    "    else:\n",
    "        return str(root.key)\n",
    "\n",
    "#     5\n",
    "#    / \\\n",
    "#   6   7\n",
    "#  /   / \\\n",
    "# 2   4   9\n",
    "node = TreeNode(5)\n",
    "node.left = TreeNode(6)\n",
    "node.right = TreeNode(7)\n",
    "node.left.left = TreeNode(2)\n",
    "node.right.left = TreeNode(4)\n",
    "node.right.right = TreeNode(9)\n",
    "print(largest_bst_subtree(node))\n",
    "#749"
   ]
  },
  {
   "cell_type": "code",
   "execution_count": 240,
   "metadata": {},
   "outputs": [
    {
     "name": "stdout",
     "output_type": "stream",
     "text": [
      "6435\n"
     ]
    }
   ],
   "source": [
    "class TreeNode:\n",
    "    def __init__(self, key):\n",
    "        self.left = None\n",
    "        self.right = None\n",
    "        self.key = key\n",
    "\n",
    "    def __str__(self):\n",
    "        # preorder traversal\n",
    "        answer = str(self.key)\n",
    "        if self.left:\n",
    "            answer += str(self.left)\n",
    "        if self.right:\n",
    "            answer += str(self.right)\n",
    "        return answer\n",
    "\n",
    "def largest_bst_subtree(root):\n",
    "    if(not root):\n",
    "        return ''\n",
    "    \n",
    "    left = ''\n",
    "    right = ''\n",
    "    \n",
    "#     print('Nodo: ', root.key)\n",
    "        \n",
    "    if root.left:\n",
    "        left = largest_bst_subtree(root.left)\n",
    "          \n",
    "    if root.right:\n",
    "        right = largest_bst_subtree(root.right)\n",
    "            \n",
    "    if root.left and root.right:\n",
    "        if root.left.key < root.key and root.right.key > root.key:\n",
    "            return str(root.key) + str(left) + str(right)\n",
    "        else:\n",
    "            return str(left) if len(left) >= len(right) else str(right)\n",
    "    elif root.left:\n",
    "        if root.left.key < root.key:\n",
    "            return str(root.key) + str(left)\n",
    "        else:\n",
    "            return ''\n",
    "    elif root.right:\n",
    "        if root.right.key > root.key:\n",
    "            return str(root.key) + str(right)\n",
    "        else:\n",
    "            return ''\n",
    "    else:\n",
    "        return str(root.key)\n",
    "\n",
    "#         5\n",
    "#        / \\\n",
    "#       6   7\n",
    "#      /   / \\\n",
    "#     4   4   9\n",
    "#    / \\\n",
    "#   3   5\n",
    "node = TreeNode(5)\n",
    "node.left = TreeNode(6)\n",
    "node.right = TreeNode(7)\n",
    "node.left.left = TreeNode(4)\n",
    "node.left.left.left = TreeNode(3)\n",
    "node.left.left.right = TreeNode(5)\n",
    "node.right.left = TreeNode(4)\n",
    "node.right.right = TreeNode(9)\n",
    "print(largest_bst_subtree(node))\n",
    "#6435"
   ]
  },
  {
   "cell_type": "markdown",
   "metadata": {},
   "source": [
    "#### Given an array, ```nums```, of n integers, find all unique triplets (three numbers, a, b, & c) in ```nums``` such that a + b + c = 0. Note that there may not be any triplets that sum to zero in nums, and that the triplets must not be duplicates.\n",
    "\n",
    "Example:\n",
    "```\n",
    "Input: nums = [0, -1, 2, -3, 1]\n",
    "Output: [0, -1, 1], [2, -3, 1]\n",
    "```"
   ]
  },
  {
   "cell_type": "code",
   "execution_count": 241,
   "metadata": {},
   "outputs": [
    {
     "name": "stdout",
     "output_type": "stream",
     "text": [
      "[[-2, 1, 1]]\n"
     ]
    }
   ],
   "source": [
    "class Solution(object):\n",
    "    def threeSum(self, nums):\n",
    "        out = []\n",
    "        \n",
    "        for i in range(len(nums)):\n",
    "            for j in range(i+1, len(nums)):\n",
    "                for k in range(j+1, len(nums)):\n",
    "                    if nums[i] + nums[j] + nums[k] == 0:\n",
    "                        t = sorted([nums[i], nums[j], nums[k]])\n",
    "                        if not t in out:\n",
    "                            out.append(t)\n",
    "                            \n",
    "        return out\n",
    "\n",
    "# Test Program\n",
    "nums = [1, -2, 1, 0, 5]\n",
    "print(Solution().threeSum(nums))\n",
    "# [[-2, 1, 1]]"
   ]
  },
  {
   "cell_type": "markdown",
   "metadata": {},
   "source": [
    "#### Given a list of words, and an arbitrary alphabetical order, verify that the words are in order of the alphabetical order.\n",
    "\n",
    "Example:\n",
    "```\n",
    "Input:\n",
    "words = [\"abcd\", \"efgh\"], order=\"zyxwvutsrqponmlkjihgfedcba\"\n",
    "\n",
    "Output: False\n",
    "```\n",
    "Explanation: 'e' comes before 'a' so 'efgh' should come before 'abcd'\n",
    "\n",
    "Example 2:\n",
    "```\n",
    "Input:\n",
    "words = [\"zyx\", \"zyxw\", \"zyxwy\"],\n",
    "order=\"zyxwvutsrqponmlkjihgfedcba\"\n",
    "\n",
    "Output: True\n",
    "```\n",
    "Explanation: The words are in increasing alphabetical order"
   ]
  },
  {
   "cell_type": "code",
   "execution_count": 242,
   "metadata": {},
   "outputs": [
    {
     "name": "stdout",
     "output_type": "stream",
     "text": [
      "False\n",
      "True\n"
     ]
    }
   ],
   "source": [
    "def gt(a, b, order):\n",
    "    return order.find(a) > order.find(b)\n",
    "\n",
    "def isSorted(words, order):\n",
    "    for i in range(len(words)-1):\n",
    "        for j in range(max(len(words[i]), len(words[i+1]))-1):\n",
    "            if gt(words[i][j], words[i+1][j], order):\n",
    "                return False\n",
    "    return True\n",
    "\n",
    "print(isSorted([\"abcd\", \"efgh\"], \"zyxwvutsrqponmlkjihgfedcba\"))\n",
    "# False\n",
    "print(isSorted([\"zyx\", \"zyxw\", \"zyxwy\"], \"zyxwvutsrqponmlkjihgfedcba\"))\n",
    "# True"
   ]
  },
  {
   "cell_type": "markdown",
   "metadata": {},
   "source": [
    "### Given an array with n objects colored red, white or blue, sort them in-place so that objects of the same color are adjacent, with the colors in the order red, white and blue.\n",
    "\n",
    "Here, we will use the integers 0, 1, and 2 to represent the color red, white, and blue respectively.\n",
    "\n",
    "Note: You are not suppose to use the library’s sort function for this problem.\n",
    "\n",
    "Can you do this in a single pass?\n",
    "\n",
    "Example:\n",
    "```\n",
    "Input: [2,0,2,1,1,0]\n",
    "Output: [0,0,1,1,2,2]\n",
    "```"
   ]
  },
  {
   "cell_type": "code",
   "execution_count": 243,
   "metadata": {},
   "outputs": [
    {
     "name": "stdout",
     "output_type": "stream",
     "text": [
      "[0, 0, 0]\n"
     ]
    }
   ],
   "source": [
    "a = [0,0,0]\n",
    "a[1:1] = []\n",
    "print(a)"
   ]
  },
  {
   "cell_type": "code",
   "execution_count": 244,
   "metadata": {},
   "outputs": [
    {
     "name": "stdout",
     "output_type": "stream",
     "text": [
      "Before Sort: \n",
      "[0, 1, 2, 2, 1, 1, 2, 2, 0, 0, 0, 0, 2, 1]\n",
      "After Sort: \n",
      "[0, 0, 0, 0, 0, 1, 1, 1, 1, 2, 2, 2, 2, 2]\n"
     ]
    }
   ],
   "source": [
    "class Solution:\n",
    "    def sortColors(self, nums):\n",
    "        positions = [0, 0, 0]\n",
    "        \n",
    "        for i in range(len(nums)):\n",
    "            t = nums[i]\n",
    "            del nums[i]\n",
    "#             nums.insert(positions[t], t)\n",
    "            nums[positions[t]:positions[t]] = [t]\n",
    "            \n",
    "            for j in range(t, 3):\n",
    "                positions[j] += 1\n",
    "        \n",
    "\n",
    "nums = [0, 1, 2, 2, 1, 1, 2, 2, 0, 0, 0, 0, 2, 1]\n",
    "print(\"Before Sort: \")\n",
    "print(nums)\n",
    "# [0, 1, 2, 2, 1, 1, 2, 2, 0, 0, 0, 0, 2, 1]\n",
    "\n",
    "Solution().sortColors(nums)\n",
    "print(\"After Sort: \")\n",
    "print(nums)\n",
    "# [0, 0, 0, 0, 0, 1, 1, 1, 1, 2, 2, 2, 2, 2]"
   ]
  },
  {
   "cell_type": "markdown",
   "metadata": {},
   "source": [
    "### You are given the preorder and inorder traversals of a binary tree in the form of arrays. Write a function that reconstructs the tree represented by these traversals.\n",
    "\n",
    "Example:\n",
    "```\n",
    "Preorder: [a, b, d, e, c, f, g]\n",
    "Inorder: [d, b, e, a, f, c, g]\n",
    "```\n",
    "The tree that should be constructed from these traversals is:\n",
    "```\n",
    "    a\n",
    "   / \\\n",
    "  b   c\n",
    " / \\ / \\\n",
    "d  e f  g\n",
    "```"
   ]
  },
  {
   "cell_type": "code",
   "execution_count": 265,
   "metadata": {},
   "outputs": [
    {
     "name": "stdout",
     "output_type": "stream",
     "text": [
      "abcdefg\n"
     ]
    }
   ],
   "source": [
    "from collections import deque\n",
    "\n",
    "class Node(object):\n",
    "    def __init__(self, val):\n",
    "        self.val = val\n",
    "        self.left = None\n",
    "        self.right = None\n",
    "\n",
    "    def __str__(self):\n",
    "        q = deque()\n",
    "        q.append(self)\n",
    "        result = ''\n",
    "        while len(q):\n",
    "            n = q.popleft()\n",
    "            result += n.val\n",
    "            if n.left:\n",
    "                q.append(n.left)\n",
    "            if n.right:\n",
    "                q.append(n.right)\n",
    "\n",
    "        return result\n",
    "\n",
    "\n",
    "def reconstruct(preorder, inorder):\n",
    "    if not preorder or not inorder:\n",
    "        return None\n",
    "    \n",
    "    root = preorder[0]\n",
    "    tree = Node(root)\n",
    "    \n",
    "    inorder_root_pos = next((i for i, j in enumerate(inorder) if j == root), None) \n",
    "    preorder_izq_ending_pos = next((i for i, j in enumerate(preorder) if j == inorder[inorder_root_pos-1]), None) \n",
    "    \n",
    "#     inorder_root_pos = inorder.find(root)\n",
    "#     preorder_izq_ending_pos = preorder.find(inorder[inorder_root_pos-1])\n",
    "    \n",
    "    preorder_izq = preorder[1:preorder_izq_ending_pos+1]\n",
    "    preorder_der = preorder[preorder_izq_ending_pos+1:]\n",
    "\n",
    "    \n",
    "    inorder_izq = inorder[:inorder_root_pos]\n",
    "    inorder_der = inorder[inorder_root_pos+1:]\n",
    "    \n",
    "    tree.left = reconstruct(preorder_izq, inorder_izq)\n",
    "    tree.right = reconstruct(preorder_der, inorder_der)\n",
    "    \n",
    "#     print('Nodo: ', preorder[0])\n",
    "#     print('preorder_izq ', preorder_izq)\n",
    "#     print('inorder_izq', inorder_izq)\n",
    "#     print('preorder_der', preorder_der)\n",
    "#     print('inorder_der', inorder_der)\n",
    "\n",
    "    return tree\n",
    "\n",
    "tree = reconstruct(['a', 'b', 'd', 'e', 'c', 'f', 'g'],\n",
    "                   ['d', 'b', 'e', 'a', 'f', 'c', 'g'])\n",
    "print(tree)\n",
    "# abcdefg"
   ]
  },
  {
   "cell_type": "markdown",
   "metadata": {},
   "source": [
    "### A unival tree is a tree where all the nodes have the same value. Given a binary tree, return the number of unival subtrees in the tree.\n",
    "\n",
    "For example, the following tree should return 5:\n",
    "```\n",
    "   0\n",
    "  / \\\n",
    " 1   0\n",
    "    / \\\n",
    "   1   0\n",
    "  / \\\n",
    " 1   1\n",
    "```\n",
    "The 5 trees are:\n",
    "- The three single '1' leaf nodes. (+3)\n",
    "- The single '0' leaf node. (+1)\n",
    "- The [1, 1, 1] tree at the bottom. (+1)\n"
   ]
  },
  {
   "cell_type": "code",
   "execution_count": 21,
   "metadata": {},
   "outputs": [
    {
     "name": "stdout",
     "output_type": "stream",
     "text": [
      "5\n"
     ]
    }
   ],
   "source": [
    "class Node(object):\n",
    "    def __init__(self, val):\n",
    "        self.val = val\n",
    "        self.left = None\n",
    "        self.right = None\n",
    "        \n",
    "def is_unival_tree(root):\n",
    "    if not root:\n",
    "        return True\n",
    "    \n",
    "    if root.left and root.right:\n",
    "        if root.val == root.left.val == root.right.val:\n",
    "            return is_unival_tree(root.left) and is_unival_tree(root.left)\n",
    "        else:\n",
    "            return False\n",
    "    elif root.left:\n",
    "        if root.val == root.left.val:\n",
    "            return is_unival_tree(root.left)\n",
    "        else:\n",
    "            return False\n",
    "    elif root.right:\n",
    "        if root.val == root.right.val:\n",
    "            return is_unival_tree(root.left)\n",
    "        else:\n",
    "            return False\n",
    "    else:\n",
    "        return True\n",
    "        \n",
    "\n",
    "def count_unival_subtrees(root,):\n",
    "    if is_unival_tree(root):\n",
    "        n = 1\n",
    "    else:\n",
    "        n = 0\n",
    "        \n",
    "    if root.left and root.right:\n",
    "        return n + count_unival_subtrees(root.left) + count_unival_subtrees(root.right)\n",
    "    elif root.left:\n",
    "        return n + count_unival_subtrees(root.left)\n",
    "    elif root.right:\n",
    "        return n + count_unival_subtrees(root.right)\n",
    "    else:\n",
    "        return 1\n",
    "\n",
    "\n",
    "a = Node(0)\n",
    "a.left = Node(1)\n",
    "a.right = Node(0)\n",
    "a.right.left = Node(1)\n",
    "a.right.right = Node(0)\n",
    "a.right.left.left = Node(1)\n",
    "a.right.left.right = Node(1)\n",
    "\n",
    "print(count_unival_subtrees(a))\n",
    "# 5"
   ]
  },
  {
   "cell_type": "code",
   "execution_count": 22,
   "metadata": {},
   "outputs": [
    {
     "name": "stdout",
     "output_type": "stream",
     "text": [
      "(5, False)\n"
     ]
    }
   ],
   "source": [
    "class Node(object):\n",
    "    def __init__(self, val):\n",
    "        self.val = val\n",
    "        self.left = None\n",
    "        self.right = None\n",
    "        \n",
    "def is_unival_tree(root):\n",
    "    if not root:\n",
    "        return True\n",
    "    \n",
    "    if root.left and root.right:\n",
    "        if root.val == root.left.val == root.right.val:\n",
    "            return is_unival_tree(root.left) and is_unival_tree(root.left)\n",
    "        else:\n",
    "            return False\n",
    "    elif root.left:\n",
    "        if root.val == root.left.val:\n",
    "            return is_unival_tree(root.left)\n",
    "        else:\n",
    "            return False\n",
    "    elif root.right:\n",
    "        if root.val == root.right.val:\n",
    "            return is_unival_tree(root.left)\n",
    "        else:\n",
    "            return False\n",
    "    else:\n",
    "        return True\n",
    "        \n",
    "\n",
    "def count_unival_subtrees(root):\n",
    "    if not root.left and not root.right:\n",
    "        return 1, True\n",
    "    \n",
    "    \n",
    "    if root.left and root.right:\n",
    "        n_left, is_unival_subtree_left = count_unival_subtrees(root.left)\n",
    "        n_right, is_unival_subtree_right = count_unival_subtrees(root.right)\n",
    "        \n",
    "        if root.val == root.left.val == root.right.val and is_unival_subtree_left and is_unival_subtree_right:\n",
    "            return n_left + n_right + 1, True\n",
    "        else:\n",
    "            return n_left + n_right, False\n",
    "    elif root.left:\n",
    "        n_left, is_unival_subtree_left = count_unival_subtrees(root.left)\n",
    "        \n",
    "        if root.val == root.left.val and is_unival_subtree_left:\n",
    "            return n_left + 1, True\n",
    "        else:\n",
    "            return n_left, False\n",
    "    elif root.right:\n",
    "        n_right, is_unival_subtree_right = count_unival_subtrees(root.right)\n",
    "        \n",
    "        if root.val == root.right.val and is_unival_subtree_right:\n",
    "            return n_right + 1, True\n",
    "        else:\n",
    "            return n_right, False\n",
    "\n",
    "a = Node(0)\n",
    "a.left = Node(1)\n",
    "a.right = Node(0)\n",
    "a.right.left = Node(1)\n",
    "a.right.right = Node(0)\n",
    "a.right.left.left = Node(1)\n",
    "a.right.left.right = Node(1)\n",
    "\n",
    "print(count_unival_subtrees(a))\n",
    "# 5"
   ]
  },
  {
   "cell_type": "markdown",
   "metadata": {},
   "source": [
    "### You are given a string s, and an integer k. Return the length of the longest substring in s that contains at most k distinct characters.\n",
    "\n",
    "For instance, given the string:\n",
    "aabcdefff and k = 3, then the longest substring with 3 distinct characters would be defff. The answer should be 5.\n"
   ]
  },
  {
   "cell_type": "code",
   "execution_count": 47,
   "metadata": {},
   "outputs": [
    {
     "name": "stdout",
     "output_type": "stream",
     "text": [
      "5\n"
     ]
    }
   ],
   "source": [
    "def idx(c):\n",
    "    return ord(c)-ord('A')\n",
    "\n",
    "def longest_substring_with_k_distinct_characters(s, k):\n",
    "    counts = [0]*len(range(ord('A'), ord('z')+1))\n",
    "\n",
    "    max_window_size = 1\n",
    "    \n",
    "    counts[idx(s[0])] = 1\n",
    "    curr_start = 0\n",
    "    curr_end = 1\n",
    "    curr_k = 1\n",
    "    \n",
    "    for i in range(1, len(s)):\n",
    "        if counts[idx(s[i])] == 0:\n",
    "            curr_k += 1\n",
    "        counts[idx(s[i])] += 1\n",
    "        curr_end += 1\n",
    "        \n",
    "        while curr_k > k:\n",
    "            counts[idx(s[curr_start])] -= 1\n",
    "            \n",
    "            if counts[idx(s[curr_start])] == 0:\n",
    "                curr_k -= 1\n",
    "                \n",
    "            curr_start += 1\n",
    "        \n",
    "        if max_window_size < curr_end - curr_start:\n",
    "            max_window_size = curr_end - curr_start\n",
    "            \n",
    "    return(max_window_size)\n",
    "        \n",
    "\n",
    "print(longest_substring_with_k_distinct_characters('aabcdefff', 3))\n",
    "# 5 (because 'defff' has length 5 with 3 characters)"
   ]
  },
  {
   "cell_type": "markdown",
   "metadata": {},
   "source": [
    "### Given a binary tree, return all values given a certain height h."
   ]
  },
  {
   "cell_type": "code",
   "execution_count": 69,
   "metadata": {},
   "outputs": [
    {
     "name": "stdout",
     "output_type": "stream",
     "text": [
      "[4, 5, 7]\n"
     ]
    }
   ],
   "source": [
    "class Node():\n",
    "    def __init__(self, value, left=None, right=None):\n",
    "        self.value = value\n",
    "        self.left = left\n",
    "        self.right = right\n",
    "\n",
    "def valuesAtHeight(root, height):\n",
    "    if not root:\n",
    "        return []\n",
    "    elif height == 1:\n",
    "        return [root.value]\n",
    "    else:\n",
    "        return valuesAtHeight(root.left, height-1) + valuesAtHeight(root.right, height-1)\n",
    "        \n",
    "        \n",
    "        \n",
    "\n",
    "#     1\n",
    "#    / \\\n",
    "#   2   3\n",
    "#  / \\   \\\n",
    "# 4   5   7\n",
    "\n",
    "a = Node(1)\n",
    "a.left = Node(2)\n",
    "a.right = Node(3)\n",
    "a.left.left = Node(4)\n",
    "a.left.left.left = Node(50)\n",
    "a.left.right = Node(5)\n",
    "a.right.right = Node(7)\n",
    "a.right.right.right = Node(10)\n",
    "print(valuesAtHeight(a, 3))\n",
    "# [4, 5, 7]"
   ]
  },
  {
   "cell_type": "markdown",
   "metadata": {},
   "source": [
    "### You are given the root of a binary search tree. Return true if it is a valid binary search tree, and false otherwise. \n",
    "Recall that a binary search tree has the property that all values in the left subtree are less than or equal to the root, and all values in the right subtree are greater than or equal to the root."
   ]
  },
  {
   "cell_type": "code",
   "execution_count": 71,
   "metadata": {},
   "outputs": [
    {
     "name": "stdout",
     "output_type": "stream",
     "text": [
      "True\n"
     ]
    }
   ],
   "source": [
    "class TreeNode:\n",
    "    def __init__(self, key):\n",
    "        self.left = None\n",
    "        self.right = None\n",
    "        self.key = key\n",
    "\n",
    "def is_bst(root):\n",
    "    if not root:\n",
    "        return True\n",
    "    \n",
    "    if root.left and root.right:\n",
    "        return root.left.key < root.key and root.right.key > root.key and is_bst(root.left) and is_bst(root.right)\n",
    "    elif root.left:\n",
    "        return root.left.key < root.key and is_bst(root.left)\n",
    "    elif root.right:\n",
    "        return root.right.key > root.key and is_bst(root.right)\n",
    "    else:\n",
    "        return True\n",
    "\n",
    "\n",
    "a = TreeNode(5)\n",
    "a.left = TreeNode(3)\n",
    "a.right = TreeNode(7)\n",
    "a.left.left = TreeNode(1)\n",
    "a.left.right = TreeNode(4)\n",
    "a.right.left = TreeNode(6)\n",
    "print(is_bst(a))\n",
    "\n",
    "#    5\n",
    "#   / \\\n",
    "#  3   7\n",
    "# / \\ /\n",
    "#1  4 6"
   ]
  },
  {
   "cell_type": "markdown",
   "metadata": {},
   "source": [
    "### You are given an array of integers. Return the smallest positive integer that is not present in the array. The array may contain duplicate entries.\n",
    "\n",
    "For example, the input ```[3, 4, -1, 1]``` should return ```2``` because it is the smallest positive integer that doesn't exist in the array.\n",
    "\n",
    "Your solution should run in linear time and use constant space."
   ]
  },
  {
   "cell_type": "code",
   "execution_count": 76,
   "metadata": {},
   "outputs": [
    {
     "name": "stdout",
     "output_type": "stream",
     "text": [
      "2\n"
     ]
    }
   ],
   "source": [
    "def first_missing_positive(nums):\n",
    "    s = set()\n",
    "    m = 0\n",
    "    for n in nums:\n",
    "        s.add(n)\n",
    "        if n > m:\n",
    "            m = n\n",
    "            \n",
    "    for i in range(1, m):\n",
    "        if not i in s:\n",
    "            return i\n",
    "    \n",
    "    return m+1\n",
    "        \n",
    "\n",
    "print(first_missing_positive([3, 4, -1, 1]))\n",
    "# 2"
   ]
  },
  {
   "cell_type": "code",
   "execution_count": 86,
   "metadata": {},
   "outputs": [
    {
     "name": "stdout",
     "output_type": "stream",
     "text": [
      "2\n"
     ]
    }
   ],
   "source": [
    "def first_missing_positive(nums):\n",
    "    pos = 0\n",
    "    n = len(nums)\n",
    "\n",
    "    for i in range(n):\n",
    "        if nums[i] <= 0:\n",
    "            nums[pos], nums[i] = nums[i], nums[pos]\n",
    "            pos += 1\n",
    "            \n",
    "    for i in range(pos, n):\n",
    "        if nums[i] < n-pos and nums[i] > 0:\n",
    "            nums[pos + nums[i] - 1] = -1\n",
    "            \n",
    "    for i in range(pos, n):\n",
    "        if nums[i] > 0:\n",
    "            return i - pos +1\n",
    "            \n",
    "        \n",
    "\n",
    "print(first_missing_positive([3, 4, -1, 1]))\n",
    "# 2"
   ]
  },
  {
   "cell_type": "markdown",
   "metadata": {},
   "source": [
    "### A look-and-say sequence is defined as the integer sequence beginning with a single digit in which the next term is obtained by describing the previous term. An example is easier to understand:\n",
    "\n",
    "Each consecutive value describes the prior value.\n",
    "```\n",
    "1      #\n",
    "11     # one 1's\n",
    "21     # two 1's\n",
    "1211   # one 2, and one 1.\n",
    "111221 # #one 1, one 2, and two 1's.\n",
    "```\n",
    "Your task is, return the nth term of this sequence."
   ]
  },
  {
   "cell_type": "code",
   "execution_count": 110,
   "metadata": {},
   "outputs": [
    {
     "name": "stdout",
     "output_type": "stream",
     "text": [
      "1\n"
     ]
    }
   ],
   "source": [
    "def nth_term(seq, n):\n",
    "    for i in range(len(seq)):\n",
    "        if i % 2 == 0:\n",
    "            n -= seq[i]\n",
    "            if n <= 0:\n",
    "                return seq[i+1]\n",
    "        \n",
    "print(nth_term([1, 1, 1, 2, 2, 1], 3))"
   ]
  },
  {
   "cell_type": "markdown",
   "metadata": {},
   "source": [
    "### You are given the root of a binary tree. Return the deepest node (the furthest node from the root).\n",
    "\n",
    "Example:\n",
    "```\n",
    "    a\n",
    "   / \\\n",
    "  b   c\n",
    " /\n",
    "d\n",
    "```\n",
    "\n",
    "The deepest node in this tree is d at depth 3."
   ]
  },
  {
   "cell_type": "code",
   "execution_count": 115,
   "metadata": {},
   "outputs": [
    {
     "name": "stdout",
     "output_type": "stream",
     "text": [
      "(d, 3)\n"
     ]
    }
   ],
   "source": [
    "class Node(object):\n",
    "    def __init__(self, val):\n",
    "        self.val = val\n",
    "        self.left = None\n",
    "        self.right = None\n",
    "\n",
    "    def __repr__(self):\n",
    "        # string representation\n",
    "        return self.val\n",
    "\n",
    "\n",
    "def deepest(node):\n",
    "    if node.right and node.left:\n",
    "        left = deepest(node.left)\n",
    "        right = deepest(node.right)\n",
    "        return (left[0], left[1]+1) if left[1] > right[1] else (right[0], right[1]+1)\n",
    "    elif node.left:\n",
    "        left = deepest(node.left)\n",
    "        return (left[0], left[1]+1)\n",
    "    elif node.right:\n",
    "        right = deepest(node.right)\n",
    "        return (right[0], right[1]+1)\n",
    "    else:\n",
    "        return (node, 1)\n",
    "        \n",
    "root = Node('a')\n",
    "root.left = Node('b')\n",
    "root.left.left = Node('d')\n",
    "root.right = Node('c')\n",
    "\n",
    "print(deepest(root))\n",
    "# (d, 3)"
   ]
  },
  {
   "cell_type": "markdown",
   "metadata": {},
   "source": [
    "### Given two strings A and B of lowercase letters, return true if and only if we can swap two letters in A so that the result equals B.\n",
    "\n",
    "Example 1:\n",
    "```\n",
    "Input: A = \"ab\", B = \"ba\"\n",
    "Output: true\n",
    "```\n",
    "Example 2:\n",
    "```\n",
    "Input: A = \"ab\", B = \"ab\"\n",
    "Output: false\n",
    "```\n",
    "Example 3:\n",
    "```\n",
    "Input: A = \"aa\", B = \"aa\"\n",
    "Output: true\n",
    "```\n",
    "Example 4:\n",
    "```\n",
    "Input: A = \"aaaaaaabc\", B = \"aaaaaaacb\"\n",
    "Output: true\n",
    "```\n",
    "Example 5:\n",
    "```\n",
    "Input: A = \"\", B = \"aa\"\n",
    "Output: false\n",
    "```"
   ]
  },
  {
   "cell_type": "code",
   "execution_count": 128,
   "metadata": {},
   "outputs": [
    {
     "name": "stdout",
     "output_type": "stream",
     "text": [
      "True\n",
      "False\n"
     ]
    }
   ],
   "source": [
    "class Solution:\n",
    "    def buddyStrings(self, A, B):\n",
    "        if len(A) != len(B):\n",
    "            return False\n",
    "        \n",
    "        freqs_A = [0]*len(range(ord('a'), ord('z')+1))    # O(1)\n",
    "        freqs_B = [0]*len(range(ord('a'), ord('z')+1))    # O(1)\n",
    "        missmatched = 0\n",
    "        \n",
    "        for i in range(len(A)):                           # O(n)\n",
    "            if A[i] != B[i]:\n",
    "                missmatched += 1\n",
    "                if( missmatched > 2):\n",
    "                    return False\n",
    "                \n",
    "            freqs_A[ord(A[i])-ord('a')] += 1\n",
    "            freqs_B[ord(B[i])-ord('a')] += 1\n",
    "            \n",
    "        if missmatched == 1:\n",
    "            return False\n",
    "            \n",
    "        for i in range(len(freqs_A)):                      # O(1)\n",
    "            if freqs_A[i] != freqs_B[i]:\n",
    "                return False\n",
    "        \n",
    "        return True\n",
    "\n",
    "\n",
    "print(Solution().buddyStrings('aaaaaaabc', 'aaaaaaacb'))\n",
    "# True\n",
    "print(Solution().buddyStrings('aaaaaabbc', 'aaaaaaacb'))\n",
    "# False"
   ]
  },
  {
   "cell_type": "markdown",
   "metadata": {},
   "source": [
    "### You have a landscape, in which puddles can form. You are given an array of non-negative integers representing the elevation at each location. Return the amount of water that would accumulate if it rains.\n",
    "\n",
    "For example: [0,1,0,2,1,0,1,3,2,1,2,1] should return 6 because 6 units of water can get trapped here.\n",
    "```\n",
    "       X               \n",
    "   X███XX█X              \n",
    " X█XX█XXXXXX                   \n",
    "# [0,1,0,2,1,0,1,3,2,1,2,1]\n",
    "```"
   ]
  },
  {
   "cell_type": "code",
   "execution_count": 130,
   "metadata": {},
   "outputs": [
    {
     "name": "stdout",
     "output_type": "stream",
     "text": [
      "No entiendo el problema\n"
     ]
    }
   ],
   "source": [
    "def capacity(arr):\n",
    "    return \"No entiendo el problema\"\n",
    "        \n",
    "\n",
    "print(capacity([0, 1, 0, 2, 1, 0, 1, 3, 2, 1, 2, 1]))\n",
    "# 6"
   ]
  },
  {
   "cell_type": "markdown",
   "metadata": {},
   "source": [
    "### Given a sorted list of numbers, change it into a balanced binary search tree. \n",
    "You can assume there will be no duplicate numbers in the list."
   ]
  },
  {
   "cell_type": "code",
   "execution_count": 145,
   "metadata": {},
   "outputs": [
    {
     "name": "stdout",
     "output_type": "stream",
     "text": [
      "4261357\n"
     ]
    }
   ],
   "source": [
    "from collections import deque\n",
    "\n",
    "class Node:\n",
    "    def __init__(self, value, left=None, right=None):\n",
    "        self.value = value\n",
    "        self.left = left\n",
    "        self.right = right\n",
    "\n",
    "    def __str__(self):\n",
    "        # level-by-level pretty-printer\n",
    "        nodes = deque([self])\n",
    "        answer = ''\n",
    "        while len(nodes):\n",
    "            node = nodes.popleft()\n",
    "            if not node:\n",
    "                continue\n",
    "            answer += str(node.value)\n",
    "            nodes.append(node.left)\n",
    "            nodes.append(node.right)\n",
    "        return answer\n",
    "\n",
    "\n",
    "def createBalancedBST(nums):\n",
    "    n = len(nums)\n",
    "    if n == 0:\n",
    "        return\n",
    "    \n",
    "    middle = n//2\n",
    "    \n",
    "    root = Node(nums[middle])\n",
    "    \n",
    "    root.left = createBalancedBST(nums[0:middle])\n",
    "    root.right = createBalancedBST(nums[middle+1:])\n",
    "    \n",
    "    return root\n",
    "\n",
    "print(createBalancedBST([1, 2, 3, 4, 5, 6, 7]))\n",
    "# 4261357\n",
    "#   4\n",
    "#  / \\\n",
    "# 2   6\n",
    "#/ \\ / \\\n",
    "#1 3 5 7"
   ]
  },
  {
   "cell_type": "markdown",
   "metadata": {},
   "source": [
    "### You are given an array of k sorted singly linked lists. Merge the linked lists into a single sorted linked list and return it."
   ]
  },
  {
   "cell_type": "code",
   "execution_count": 147,
   "metadata": {},
   "outputs": [
    {
     "ename": "SyntaxError",
     "evalue": "invalid syntax (<ipython-input-147-b85c65dab2fb>, line 33)",
     "output_type": "error",
     "traceback": [
      "\u001b[1;36m  File \u001b[1;32m\"<ipython-input-147-b85c65dab2fb>\"\u001b[1;36m, line \u001b[1;32m33\u001b[0m\n\u001b[1;33m    if lists[i] and\u001b[0m\n\u001b[1;37m                    ^\u001b[0m\n\u001b[1;31mSyntaxError\u001b[0m\u001b[1;31m:\u001b[0m invalid syntax\n"
     ]
    }
   ],
   "source": [
    "import numpy\n",
    "\n",
    "class Node(object):\n",
    "    def __init__(self, val, next=None):\n",
    "        self.val = val\n",
    "        self.next = next\n",
    "\n",
    "    def __str__(self):\n",
    "        c = self\n",
    "        answer = \"\"\n",
    "        while c:\n",
    "            answer += str(c.val) if c.val else \"\"\n",
    "            c = c.next\n",
    "        return answer\n",
    "\n",
    "def merge(lists):\n",
    "    finished = True\n",
    "    for node in lists:\n",
    "        if node:\n",
    "            finished = False\n",
    "            break\n",
    "            \n",
    "    if finished:\n",
    "        return\n",
    "    \n",
    "    out = []\n",
    "    \n",
    "    \n",
    "    while not finished:\n",
    "        finished = True\n",
    "        min_value = np.NINF\n",
    "        pos_min = None\n",
    "        \n",
    "        for i in range(len(lists)):\n",
    "            node = lists[i]\n",
    "            if node and node.val < min_value:\n",
    "                min_value = node.val\n",
    "                pos_min = i\n",
    "                \n",
    "        out.append(lists[pos_min].val)\n",
    "        lists\n",
    "            \n",
    "        \n",
    "    \n",
    "    while any(pointers):\n",
    "        for i in range(len(lists)):\n",
    "            pointers[i]\n",
    "\n",
    "a = Node(1, Node(3, Node(5)))\n",
    "b = Node(2, Node(4, Node(6)))\n",
    "print(merge([a, b]))\n",
    "# 123456"
   ]
  },
  {
   "cell_type": "code",
   "execution_count": 166,
   "metadata": {},
   "outputs": [
    {
     "name": "stdout",
     "output_type": "stream",
     "text": [
      "123456\n"
     ]
    }
   ],
   "source": [
    "import numpy\n",
    "\n",
    "class Node(object):\n",
    "    def __init__(self, val, next=None):\n",
    "        self.val = val\n",
    "        self.next = next\n",
    "\n",
    "    def __str__(self):\n",
    "        c = self\n",
    "        answer = \"\"\n",
    "        while c:\n",
    "            answer += str(c.val) if c.val else \"\"\n",
    "            c = c.next\n",
    "        return answer\n",
    "\n",
    "def merge(lists):\n",
    "    n = len(lists)\n",
    "    if not n:\n",
    "        return\n",
    "    \n",
    "    for i in range(1, len(lists)):\n",
    "        n0 = lists[0]\n",
    "        n1 = lists[i]\n",
    "        \n",
    "        while n0.next and n1:\n",
    "            if n0.val < n1.val:\n",
    "                if n1.val <= n0.next.val:\n",
    "                    temp = n0.next\n",
    "                    n0.next = n1\n",
    "                    n1 = n1.next\n",
    "                    n0 = n0.next\n",
    "                    n0.next = temp\n",
    "                else:\n",
    "                    n0 = n0.next\n",
    "            else: # n1.val <= n0.val\n",
    "                n0, n1 = n1, n0\n",
    "                \n",
    "        n0.next = n1\n",
    "    \n",
    "    return lists[0]\n",
    "\n",
    "a = Node(1, Node(3, Node(5)))\n",
    "b = Node(2, Node(4, Node(6)))\n",
    "print(merge([a, b]))\n",
    "# 123456"
   ]
  },
  {
   "cell_type": "code",
   "execution_count": 167,
   "metadata": {},
   "outputs": [
    {
     "name": "stdout",
     "output_type": "stream",
     "text": [
      "12345579\n"
     ]
    }
   ],
   "source": [
    "a = Node(1, Node(2, Node(4)))\n",
    "b = Node(3, Node(5, Node(7)))\n",
    "c = Node(5, Node(9))\n",
    "print(merge([a, b, c]))"
   ]
  },
  {
   "cell_type": "markdown",
   "metadata": {},
   "source": [
    "### You are given an array of integers. Find the maximum sum of all possible contiguous subarrays of the array.\n",
    "\n",
    "Example:\n",
    "```\n",
    "[34, -50, 42, 14, -5, 86]\n",
    "```\n",
    "Given this input array, the output should be ```137```. The contiguous subarray with the largest sum is ```[42, 14, -5, 86]``` .\n",
    "\n",
    "Your solution should run in linear time."
   ]
  },
  {
   "cell_type": "code",
   "execution_count": 175,
   "metadata": {},
   "outputs": [
    {
     "name": "stdout",
     "output_type": "stream",
     "text": [
      "[42, 14, -5, 86]\n",
      "137\n"
     ]
    }
   ],
   "source": [
    "def max_subarray_sum(arr):\n",
    "    max_start_pos = 0\n",
    "    max_end_pos = 0\n",
    "    start_pos = 0\n",
    "    max_sum = 0\n",
    "    curr_sum = 0\n",
    "    \n",
    "    for i, n in enumerate(arr):                         # O(n)\n",
    "        curr_sum += n\n",
    "        \n",
    "        if curr_sum < 0:\n",
    "            start_pos = i+1\n",
    "            curr_sum = 0\n",
    "            \n",
    "        if max_sum < curr_sum:\n",
    "            max_sum = curr_sum\n",
    "            max_start_pos = start_pos\n",
    "            max_end_pos = i+1\n",
    "        \n",
    "    print(arr[max_start_pos:max_end_pos])\n",
    "    return max_sum\n",
    "            \n",
    "\n",
    "print(max_subarray_sum([34, -50, 42, 14, -5, 86]))\n",
    "# 137"
   ]
  },
  {
   "cell_type": "code",
   "execution_count": 176,
   "metadata": {},
   "outputs": [
    {
     "name": "stdout",
     "output_type": "stream",
     "text": [
      "[42, 14, -5, 86, -100, 8, 200]\n",
      "245\n"
     ]
    }
   ],
   "source": [
    "print(max_subarray_sum([34, -50, 42, 14, -5, 86, -100, 8, 200, -10]))"
   ]
  },
  {
   "cell_type": "markdown",
   "metadata": {},
   "source": [
    "### Implement a queue class using two stacks. A queue is a data structure that supports the FIFO protocol (First in = first out). Your class should support the enqueue and dequeue methods like a standard queue."
   ]
  },
  {
   "cell_type": "code",
   "execution_count": 190,
   "metadata": {},
   "outputs": [
    {
     "name": "stdout",
     "output_type": "stream",
     "text": [
      "1\n",
      "2\n",
      "3\n",
      "5\n"
     ]
    }
   ],
   "source": [
    "class Node:\n",
    "    def __init__(self, val, next=None, prev=None):\n",
    "        self.val = val\n",
    "        self.next = next\n",
    "        self.prev = prev\n",
    "        \n",
    "    def __str__(self):\n",
    "        return str(self.val)\n",
    "\n",
    "class Queue:\n",
    "    def __init__(self):\n",
    "        self.rear = None\n",
    "        self.end = None\n",
    "\n",
    "    def enqueue(self, val):\n",
    "        if not self.rear:\n",
    "            self.rear = Node(val)\n",
    "            self.end = self.rear\n",
    "        else:\n",
    "            temp = self.rear\n",
    "            self.rear = Node(val, next=temp)\n",
    "            temp.prev = self.rear\n",
    "\n",
    "    def dequeue(self):\n",
    "        if not self.end:\n",
    "            return\n",
    "        elif self.end == self.rear:\n",
    "            temp = self.end\n",
    "            self.end = self.rear = None\n",
    "            return temp\n",
    "        else:\n",
    "            self.end = self.end.prev\n",
    "            ret = self.end.next\n",
    "            self.end.next = None\n",
    "            return ret\n",
    "            \n",
    "q = Queue()\n",
    "q.enqueue(1)\n",
    "q.enqueue(2)\n",
    "q.enqueue(3)\n",
    "print(q.dequeue())\n",
    "print(q.dequeue())\n",
    "q.enqueue(5)\n",
    "print(q.dequeue())\n",
    "print(q.dequeue())\n",
    "# 1 2 3 5"
   ]
  },
  {
   "cell_type": "markdown",
   "metadata": {},
   "source": [
    "### You are given an array. Each element represents the price of a stock on that particular day. Calculate and return the maximum profit you can make from buying and selling that stock only once.\n",
    "\n",
    "For example: ```[9, 11, 8, 5, 7, 10]```\n",
    "\n",
    "Here, the optimal trade is to buy when the price is 5, and sell when it is 10, so the return value should be 5 (profit = 10 - 5 = 5)."
   ]
  },
  {
   "cell_type": "code",
   "execution_count": 194,
   "metadata": {},
   "outputs": [
    {
     "name": "stdout",
     "output_type": "stream",
     "text": [
      "Max retun: 5\t When to buy:3\tWhen to sell:5\n"
     ]
    }
   ],
   "source": [
    "def buy_and_sell(arr):\n",
    "    pos_buy_max = 0\n",
    "    pos_sell_max = 0\n",
    "    pos_buy = 0\n",
    "#     pos_sell = 0\n",
    "    max_ret = 0\n",
    "    curr_ret = 0\n",
    "    \n",
    "    for i in range(len(arr)):\n",
    "        curr_ret = arr[i] - arr[pos_buy]\n",
    "        \n",
    "        if curr_ret > max_ret:\n",
    "            max_ret = curr_ret\n",
    "            pos_buy_max = pos_buy\n",
    "            pos_sell_max = i\n",
    "            \n",
    "        if curr_ret < 0:\n",
    "            pos_buy = i\n",
    "            \n",
    "    return 'Max retun: {}\\t When to buy:{}\\tWhen to sell:{}'.format(max_ret, pos_buy_max, pos_sell_max)\n",
    "    \n",
    "  \n",
    "print(buy_and_sell([9, 11, 8, 5, 7, 10]))\n",
    "# 5"
   ]
  },
  {
   "cell_type": "markdown",
   "metadata": {},
   "source": [
    "You are given an array of intervals - that is, an array of tuples (start, end). The array may not be sorted, and could contain overlapping intervals. Return another array where the overlapping intervals are merged.\n",
    "\n",
    "For example:\n",
    "```\n",
    "[(1, 3), (5, 8), (4, 10), (20, 25)]\n",
    "```\n",
    "\n",
    "This input should return ```[(1, 3), (4, 10), (20, 25)]``` since (5, 8) and (4, 10) can be merged into (4, 10)."
   ]
  },
  {
   "cell_type": "code",
   "execution_count": 208,
   "metadata": {},
   "outputs": [
    {
     "name": "stdout",
     "output_type": "stream",
     "text": [
      "[(1, 3), (4, 10), (20, 25)]\n"
     ]
    }
   ],
   "source": [
    "def merge(intervals):\n",
    "    sorted_intervals = sorted(intervals)\n",
    "    out = []\n",
    "    \n",
    "    n = len(sorted_intervals)\n",
    "    i = 0\n",
    "    while i < n:\n",
    "        j=i\n",
    "        max_ending = sorted_intervals[j][1]\n",
    "        \n",
    "        while j+1 < n and sorted_intervals[j][1] > sorted_intervals[j+1][0]:\n",
    "            if sorted_intervals[j+1][1] > max_ending:\n",
    "                max_ending = sorted_intervals[j+1][1]\n",
    "            j += 1\n",
    "            \n",
    "        out.append((sorted_intervals[i][0], max_ending))\n",
    "        i=j+1\n",
    "        \n",
    "    return out\n",
    "\n",
    "print(merge([(1, 3), (5, 8), (4, 10), (20, 25)]))\n",
    "# [(1, 3), (4, 10), (20, 25)]"
   ]
  },
  {
   "cell_type": "code",
   "execution_count": null,
   "metadata": {},
   "outputs": [],
   "source": [
    "(1, 3), (4, 10), (5, 12), (11, 15) (20, 25)"
   ]
  },
  {
   "cell_type": "markdown",
   "metadata": {},
   "source": [
    "### You are given an array of integers. Return the largest product that can be made by multiplying any 3 integers in the array.\n",
    "\n",
    "Example:\n",
    "```\n",
    "[-4, -4, 2, 8]``` should return ```128``` as the largest product can be made by multiplying -4 * -4 * 8 = 128."
   ]
  },
  {
   "cell_type": "code",
   "execution_count": 209,
   "metadata": {},
   "outputs": [
    {
     "name": "stdout",
     "output_type": "stream",
     "text": [
      "128\n"
     ]
    }
   ],
   "source": [
    "def maximum_product_of_three(lst):\n",
    "    sorted_lst = sorted(lst)\n",
    "    \n",
    "    num_neg = 0\n",
    "    \n",
    "    for i in sorted_lst:\n",
    "        if i<0:\n",
    "            num_neg += 1\n",
    "            if num_neg > 1:\n",
    "                break\n",
    "                \n",
    "    if num_neg < 2:\n",
    "        return sorted_lst[-1]*sorted_lst[-2]*sorted_lst[-3]\n",
    "    else:\n",
    "        return max(sorted_lst[-1]*sorted_lst[-2]*sorted_lst[-3], sorted_lst[0]*sorted_lst[1]*sorted_lst[-1])\n",
    "        \n",
    "\n",
    "print(maximum_product_of_three([-4, -4, 2, 8]))\n",
    "# 128\n",
    "print(maximum_product_of_three([-4, -1, -4, 10, 2, 8]))\n",
    "# 160"
   ]
  },
  {
   "cell_type": "code",
   "execution_count": 279,
   "metadata": {},
   "outputs": [
    {
     "name": "stdout",
     "output_type": "stream",
     "text": [
      "128\n",
      "160\n"
     ]
    }
   ],
   "source": [
    "import numpy as np\n",
    "\n",
    "def maximum_product_of_three(lst):\n",
    "    first_max = np.NINF\n",
    "    second_max = np.NINF\n",
    "    third_max = np.NINF\n",
    "    \n",
    "    first_min = np.inf\n",
    "    second_min = np.inf\n",
    "    \n",
    "    for i in lst:\n",
    "        if i > first_max:\n",
    "            first_max, second_max, third_max = i, first_max, second_max\n",
    "        elif i > second_max:\n",
    "            second_max, third_max = i, second_max\n",
    "        elif i > third_max:\n",
    "            third_max = i\n",
    "            \n",
    "        if i < first_min:\n",
    "            first_min, second_min = i, first_min\n",
    "        elif i < second_min:\n",
    "            second_min = i\n",
    "                        \n",
    "    return max(first_max*second_max*third_max, first_max*first_min*second_min)\n",
    "\n",
    "print(maximum_product_of_three([-4, -4, 2, 8]))\n",
    "# 128\n",
    "print(maximum_product_of_three([-4, -1, -4, 10, 2, 8]))\n",
    "# 160"
   ]
  },
  {
   "cell_type": "markdown",
   "metadata": {},
   "source": [
    "### You are given an array of integers. Return the largest product that can be made by multiplying any ```k``` integers in the array."
   ]
  },
  {
   "cell_type": "code",
   "execution_count": 282,
   "metadata": {},
   "outputs": [
    {
     "name": "stdout",
     "output_type": "stream",
     "text": [
      "128\n",
      "160\n"
     ]
    }
   ],
   "source": [
    "import numpy as np\n",
    "import heapq\n",
    "\n",
    "def maximum_product_of_k(lst, k):\n",
    "    if len(lst) < k or k == 0:\n",
    "        return\n",
    "    \n",
    "    elif k == 1:\n",
    "        return max(lst)\n",
    "    \n",
    "    elif len(lst) == k:\n",
    "        out = 1\n",
    "        for i in lst:\n",
    "            out = out*i\n",
    "        return out\n",
    "    \n",
    "    elif max(lst) == 0 and k % 2 == 1:\n",
    "        return 0\n",
    "    \n",
    "    else:\n",
    "        sorted_lst = sorted(lst)\n",
    "        out = 1\n",
    "        \n",
    "        i = 0\n",
    "        j = 0\n",
    "\n",
    "        max_1 = sorted_lst[-1-j]\n",
    "        max_2 = sorted_lst[-2-j]\n",
    "        min_1 = sorted_lst[0+i]\n",
    "        min_2 = sorted_lst[1+i]\n",
    "\n",
    "        while k > 1:\n",
    "            if max_1*max_2 > min_1*min_2:\n",
    "                out = out * max_1 * max_2\n",
    "                j += 2\n",
    "                max_1 = sorted_lst[-1-j]\n",
    "                max_2 = sorted_lst[-2-j]\n",
    "            else:\n",
    "                out = out * min_1 * min_2\n",
    "                i += 2\n",
    "                min_1 = sorted_lst[0+i]\n",
    "                min_2 = sorted_lst[1+i]\n",
    "\n",
    "            k -= 2\n",
    "            \n",
    "        if k == 1:\n",
    "            out = out * max_1\n",
    "\n",
    "        return out\n",
    "\n",
    "\n",
    "            \n",
    "            \n",
    "#     max_heap = [-i for i in lst]\n",
    "#     min_heap = lst\n",
    "#     heapq.heapify(max_heap)\n",
    "#     heapq.heapify(min_heap)\n",
    "#     out = 1\n",
    "    \n",
    "#     if k % 2 == 0:\n",
    "#         max_1 = - heapq.heappop(max_heap)\n",
    "#         max_2 = - heapq.heappop(max_heap)\n",
    "#         min_1 = heapq.heappop(min_heap)\n",
    "#         min_2 = heapq.heappop(min_heap)\n",
    "        \n",
    "#         k -= 2\n",
    "        \n",
    "#         while k > 0:\n",
    "# #             print(max_1, max_2)\n",
    "# #             print(min_1, min_2)\n",
    "            \n",
    "#             if max_1*max_2 > min_1*min_2:\n",
    "#                 out = out * max_1 * max_2\n",
    "#                 max_1 = - heapq.heappop(max_heap)\n",
    "#                 max_2 = - heapq.heappop(max_heap)\n",
    "#             else:\n",
    "#                 out = out * min_1 * min_2\n",
    "#                 min_1 = heapq.heappop(min_heap)\n",
    "#                 min_2 = heapq.heappop(min_heap)\n",
    "                \n",
    "#             k -= 2\n",
    "        \n",
    "#         return out\n",
    "        \n",
    "\n",
    "print(maximum_product_of_k([-4, -4, 2, 8], 3))\n",
    "# 128\n",
    "print(maximum_product_of_k([-4, -1, -4, 10, 2, 8], 3))\n",
    "# 160"
   ]
  },
  {
   "cell_type": "markdown",
   "metadata": {},
   "source": [
    "### You are given a 2D array of integers. Print out the clockwise spiral traversal of the matrix.\n",
    "\n",
    "Example:\n",
    "```\n",
    "grid = [[1,  2,  3,  4,  5],\n",
    "        [6,  7,  8,  9,  10],\n",
    "        [11, 12, 13, 14, 15],\n",
    "        [16, 17, 18, 19, 20]]\n",
    "```\n",
    "The clockwise spiral traversal of this array is:\n",
    "\n",
    "1, 2, 3, 4, 5, 10, 15, 20, 19, 18, 17, 16, 11, 6, 7, 8, 9, 14, 13, 12"
   ]
  },
  {
   "cell_type": "code",
   "execution_count": 313,
   "metadata": {},
   "outputs": [
    {
     "name": "stdout",
     "output_type": "stream",
     "text": [
      "1 2 3 4 5 10 15 20 19 18 17 16 11 6 7 8 9 14 13 12 13 \n"
     ]
    }
   ],
   "source": [
    "def matrix_spiral_print(M):\n",
    "    r = len(M)\n",
    "    c = len(M[0])\n",
    "    out = ''\n",
    "    \n",
    "    for loop in range(min(r, c)):\n",
    "        for j in range(loop, c-loop):\n",
    "            out += str(M[loop][j]) + ' '\n",
    "            \n",
    "        for i in range(loop+1, r-loop-1):\n",
    "            out += str(M[i][c-loop-1]) + ' '\n",
    "            \n",
    "        for j in range(c-loop-1, loop, -1):\n",
    "            out += str(M[r-loop-1][j]) + ' '\n",
    "            \n",
    "        for i in range(r-loop-1, loop, -1):\n",
    "            out += str(M[i][loop]) + ' '\n",
    "            \n",
    "    print(out)\n",
    "    \n",
    "    \n",
    "grid = [[1,  2,  3,  4,  5],\n",
    "        [6,  7,  8,  9,  10],\n",
    "        [11, 12, 13, 14, 15],\n",
    "        [16, 17, 18, 19, 20]]\n",
    "\n",
    "matrix_spiral_print(grid)\n",
    "# 1 2 3 4 5 10 15 20 19 18 17 16 11 6 7 8 9 14 13 12"
   ]
  },
  {
   "cell_type": "markdown",
   "metadata": {},
   "source": [
    "### You are given an array of integers. Return the length of the longest increasing subsequence (not necessarily contiguous) in the array.\n",
    "\n",
    "Example:\n",
    "```\n",
    "[0, 8, 4, 12, 2, 10, 6, 14, 1, 9, 5, 13, 3, 11, 7, 15]\n",
    "```\n",
    "\n",
    "The following input should return 6 since the longest increasing subsequence is 0, 2, 6, 9 , 11, 15."
   ]
  },
  {
   "cell_type": "code",
   "execution_count": null,
   "metadata": {},
   "outputs": [],
   "source": [
    "[10, 10, 12, 5, 6, 7, 8]"
   ]
  },
  {
   "cell_type": "code",
   "execution_count": null,
   "metadata": {},
   "outputs": [],
   "source": [
    "def longest_increasing_subsequence(arr):\n",
    "    longest_seq_indexes = []\n",
    "    curr_sequence = [arr[0]]\n",
    "    \n",
    "    # Try to push next number into current_sequence\n",
    "    \n",
    "    \n",
    "    # Update maximum sequence if current sequence is longer\n",
    "    \n",
    "    \n",
    "    \n",
    "    \n",
    "    seq = arr[0]\n",
    "    "
   ]
  },
  {
   "cell_type": "markdown",
   "metadata": {},
   "source": [
    "# Given a time in the format of hour and minute, calculate the angle of the hour and minute hand on a clock."
   ]
  },
  {
   "cell_type": "code",
   "execution_count": 12,
   "metadata": {},
   "outputs": [
    {
     "name": "stdout",
     "output_type": "stream",
     "text": [
      "90.0\n",
      "0\n"
     ]
    }
   ],
   "source": [
    "from math import exp\n",
    "\n",
    "def calcAngle(h, m):\n",
    "#     angle_h = e^(()*j\n",
    "    hour_angle = h/12*360 if h/12*360 != 360 else 0\n",
    "    minutes_angle = m/60*360 if h/12*360 != 360 else 0\n",
    "    \n",
    "    if minutes_angle - hour_angle <= 180:\n",
    "        return minutes_angle - hour_angle\n",
    "    else:\n",
    "        return hour_angle - minutes_angle\n",
    "    \n",
    "#     print(h/60*360)\n",
    "\n",
    "#     [0, 12) ->> [0, 360)\n",
    "#     [0, 60) ->> [0, 360)\n",
    "\n",
    "#     x/12*360\n",
    "    \n",
    "\n",
    "print(calcAngle(3, 30))\n",
    "# 75\n",
    "print(calcAngle(12, 30))\n",
    "# 165"
   ]
  },
  {
   "cell_type": "markdown",
   "metadata": {},
   "source": [
    "### You are given a binary tree representation of an arithmetic expression. In this tree, each leaf is an integer value,, and a non-leaf node is one of the four operations: '+', '-', '*', or '/'.\n",
    "\n",
    "Write a function that takes this tree and evaluates the expression.\n",
    "\n",
    "Example:\n",
    "```\n",
    "    *\n",
    "   / \\\n",
    "  +    +\n",
    " / \\  / \\\n",
    "3  2  4  5\n",
    "```\n",
    "This is a representation of the expression (3 + 2) * (4 + 5), and should return 45."
   ]
  },
  {
   "cell_type": "code",
   "execution_count": 15,
   "metadata": {},
   "outputs": [
    {
     "name": "stdout",
     "output_type": "stream",
     "text": [
      "45\n"
     ]
    }
   ],
   "source": [
    "class Node:\n",
    "    def __init__(self, val, left=None, right=None):\n",
    "        self.val = val\n",
    "        self.left = left\n",
    "        self.right = right\n",
    "        \n",
    "def evaluate(root):\n",
    "    if isinstance(root.val, int):\n",
    "        return root.val\n",
    "    elif root.val == '+':\n",
    "        return evaluate(root.left) + evaluate(root.right)\n",
    "    elif root.val == '-':\n",
    "        return evaluate(root.left) - evaluate(root.right)\n",
    "    elif root.val == '*':\n",
    "        return evaluate(root.left) * evaluate(root.right)\n",
    "    elif root.val == '/':\n",
    "        return evaluate(root.left) / evaluate(root.right)\n",
    "\n",
    "PLUS = \"+\"\n",
    "MINUS = \"-\"\n",
    "TIMES = \"*\"\n",
    "DIVIDE = \"/\"\n",
    "\n",
    "tree = Node(TIMES)\n",
    "tree.left = Node(PLUS)\n",
    "tree.left.left = Node(3)\n",
    "tree.left.right = Node(2)\n",
    "tree.right = Node(PLUS)\n",
    "tree.right.left = Node(4)\n",
    "tree.right.right = Node(5)\n",
    "print(evaluate(tree))\n",
    "# 45"
   ]
  },
  {
   "cell_type": "code",
   "execution_count": null,
   "metadata": {},
   "outputs": [],
   "source": []
  }
 ],
 "metadata": {
  "kernelspec": {
   "display_name": "Python 3",
   "language": "python",
   "name": "python3"
  },
  "language_info": {
   "codemirror_mode": {
    "name": "ipython",
    "version": 3
   },
   "file_extension": ".py",
   "mimetype": "text/x-python",
   "name": "python",
   "nbconvert_exporter": "python",
   "pygments_lexer": "ipython3",
   "version": "3.7.7"
  }
 },
 "nbformat": 4,
 "nbformat_minor": 4
}
